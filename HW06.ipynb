HW06

Diffusion Model
