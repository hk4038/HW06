WK06: Diffuser Pipelines

Diffusion Model
